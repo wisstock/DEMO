{
  "nbformat": 4,
  "nbformat_minor": 0,
  "metadata": {
    "colab": {
      "name": "LeNet5",
      "provenance": [],
      "collapsed_sections": []
    },
    "kernelspec": {
      "name": "python3",
      "display_name": "Python 3"
    },
    "language_info": {
      "name": "python"
    },
    "accelerator": "GPU",
    "widgets": {
      "application/vnd.jupyter.widget-state+json": {
        "b693252e24374e14810b0d21c1384f73": {
          "model_module": "@jupyter-widgets/controls",
          "model_name": "HBoxModel",
          "model_module_version": "1.5.0",
          "state": {
            "_view_name": "HBoxView",
            "_dom_classes": [],
            "_model_name": "HBoxModel",
            "_view_module": "@jupyter-widgets/controls",
            "_model_module_version": "1.5.0",
            "_view_count": null,
            "_view_module_version": "1.5.0",
            "box_style": "",
            "layout": "IPY_MODEL_bdabb343b4c14e39a05fec1673b3dc15",
            "_model_module": "@jupyter-widgets/controls",
            "children": [
              "IPY_MODEL_a1f25004115041d89bcd25c7efe16d4c",
              "IPY_MODEL_773571587fff45ae963c50a887ea0879",
              "IPY_MODEL_8dc1cf072d724626a8679f8794d6f5f0"
            ]
          }
        },
        "bdabb343b4c14e39a05fec1673b3dc15": {
          "model_module": "@jupyter-widgets/base",
          "model_name": "LayoutModel",
          "model_module_version": "1.2.0",
          "state": {
            "_view_name": "LayoutView",
            "grid_template_rows": null,
            "right": null,
            "justify_content": null,
            "_view_module": "@jupyter-widgets/base",
            "overflow": null,
            "_model_module_version": "1.2.0",
            "_view_count": null,
            "flex_flow": null,
            "width": null,
            "min_width": null,
            "border": null,
            "align_items": null,
            "bottom": null,
            "_model_module": "@jupyter-widgets/base",
            "top": null,
            "grid_column": null,
            "overflow_y": null,
            "overflow_x": null,
            "grid_auto_flow": null,
            "grid_area": null,
            "grid_template_columns": null,
            "flex": null,
            "_model_name": "LayoutModel",
            "justify_items": null,
            "grid_row": null,
            "max_height": null,
            "align_content": null,
            "visibility": null,
            "align_self": null,
            "height": null,
            "min_height": null,
            "padding": null,
            "grid_auto_rows": null,
            "grid_gap": null,
            "max_width": null,
            "order": null,
            "_view_module_version": "1.2.0",
            "grid_template_areas": null,
            "object_position": null,
            "object_fit": null,
            "grid_auto_columns": null,
            "margin": null,
            "display": null,
            "left": null
          }
        },
        "a1f25004115041d89bcd25c7efe16d4c": {
          "model_module": "@jupyter-widgets/controls",
          "model_name": "HTMLModel",
          "model_module_version": "1.5.0",
          "state": {
            "_view_name": "HTMLView",
            "style": "IPY_MODEL_e55bb57d2c90427a858a5d2dcf55c6f4",
            "_dom_classes": [],
            "description": "",
            "_model_name": "HTMLModel",
            "placeholder": "​",
            "_view_module": "@jupyter-widgets/controls",
            "_model_module_version": "1.5.0",
            "value": "Epoch: 100%",
            "_view_count": null,
            "_view_module_version": "1.5.0",
            "description_tooltip": null,
            "_model_module": "@jupyter-widgets/controls",
            "layout": "IPY_MODEL_225f8e29632948819c2dba4a127ff1a0"
          }
        },
        "773571587fff45ae963c50a887ea0879": {
          "model_module": "@jupyter-widgets/controls",
          "model_name": "FloatProgressModel",
          "model_module_version": "1.5.0",
          "state": {
            "_view_name": "ProgressView",
            "style": "IPY_MODEL_d13437997f1b4ba7a39c1418ceca808f",
            "_dom_classes": [],
            "description": "",
            "_model_name": "FloatProgressModel",
            "bar_style": "success",
            "max": 10,
            "_view_module": "@jupyter-widgets/controls",
            "_model_module_version": "1.5.0",
            "value": 10,
            "_view_count": null,
            "_view_module_version": "1.5.0",
            "orientation": "horizontal",
            "min": 0,
            "description_tooltip": null,
            "_model_module": "@jupyter-widgets/controls",
            "layout": "IPY_MODEL_1bfb39376aef41cf9bed54f0d0ad51ac"
          }
        },
        "8dc1cf072d724626a8679f8794d6f5f0": {
          "model_module": "@jupyter-widgets/controls",
          "model_name": "HTMLModel",
          "model_module_version": "1.5.0",
          "state": {
            "_view_name": "HTMLView",
            "style": "IPY_MODEL_36b9c56fbdf540bfa00dac3e9c1ea265",
            "_dom_classes": [],
            "description": "",
            "_model_name": "HTMLModel",
            "placeholder": "​",
            "_view_module": "@jupyter-widgets/controls",
            "_model_module_version": "1.5.0",
            "value": " 10/10 [01:59&lt;00:00, 11.79s/it]",
            "_view_count": null,
            "_view_module_version": "1.5.0",
            "description_tooltip": null,
            "_model_module": "@jupyter-widgets/controls",
            "layout": "IPY_MODEL_b04784fcfbec4fa2b09e95e2c13c2a2b"
          }
        },
        "e55bb57d2c90427a858a5d2dcf55c6f4": {
          "model_module": "@jupyter-widgets/controls",
          "model_name": "DescriptionStyleModel",
          "model_module_version": "1.5.0",
          "state": {
            "_view_name": "StyleView",
            "_model_name": "DescriptionStyleModel",
            "description_width": "",
            "_view_module": "@jupyter-widgets/base",
            "_model_module_version": "1.5.0",
            "_view_count": null,
            "_view_module_version": "1.2.0",
            "_model_module": "@jupyter-widgets/controls"
          }
        },
        "225f8e29632948819c2dba4a127ff1a0": {
          "model_module": "@jupyter-widgets/base",
          "model_name": "LayoutModel",
          "model_module_version": "1.2.0",
          "state": {
            "_view_name": "LayoutView",
            "grid_template_rows": null,
            "right": null,
            "justify_content": null,
            "_view_module": "@jupyter-widgets/base",
            "overflow": null,
            "_model_module_version": "1.2.0",
            "_view_count": null,
            "flex_flow": null,
            "width": null,
            "min_width": null,
            "border": null,
            "align_items": null,
            "bottom": null,
            "_model_module": "@jupyter-widgets/base",
            "top": null,
            "grid_column": null,
            "overflow_y": null,
            "overflow_x": null,
            "grid_auto_flow": null,
            "grid_area": null,
            "grid_template_columns": null,
            "flex": null,
            "_model_name": "LayoutModel",
            "justify_items": null,
            "grid_row": null,
            "max_height": null,
            "align_content": null,
            "visibility": null,
            "align_self": null,
            "height": null,
            "min_height": null,
            "padding": null,
            "grid_auto_rows": null,
            "grid_gap": null,
            "max_width": null,
            "order": null,
            "_view_module_version": "1.2.0",
            "grid_template_areas": null,
            "object_position": null,
            "object_fit": null,
            "grid_auto_columns": null,
            "margin": null,
            "display": null,
            "left": null
          }
        },
        "d13437997f1b4ba7a39c1418ceca808f": {
          "model_module": "@jupyter-widgets/controls",
          "model_name": "ProgressStyleModel",
          "model_module_version": "1.5.0",
          "state": {
            "_view_name": "StyleView",
            "_model_name": "ProgressStyleModel",
            "description_width": "",
            "_view_module": "@jupyter-widgets/base",
            "_model_module_version": "1.5.0",
            "_view_count": null,
            "_view_module_version": "1.2.0",
            "bar_color": null,
            "_model_module": "@jupyter-widgets/controls"
          }
        },
        "1bfb39376aef41cf9bed54f0d0ad51ac": {
          "model_module": "@jupyter-widgets/base",
          "model_name": "LayoutModel",
          "model_module_version": "1.2.0",
          "state": {
            "_view_name": "LayoutView",
            "grid_template_rows": null,
            "right": null,
            "justify_content": null,
            "_view_module": "@jupyter-widgets/base",
            "overflow": null,
            "_model_module_version": "1.2.0",
            "_view_count": null,
            "flex_flow": null,
            "width": null,
            "min_width": null,
            "border": null,
            "align_items": null,
            "bottom": null,
            "_model_module": "@jupyter-widgets/base",
            "top": null,
            "grid_column": null,
            "overflow_y": null,
            "overflow_x": null,
            "grid_auto_flow": null,
            "grid_area": null,
            "grid_template_columns": null,
            "flex": null,
            "_model_name": "LayoutModel",
            "justify_items": null,
            "grid_row": null,
            "max_height": null,
            "align_content": null,
            "visibility": null,
            "align_self": null,
            "height": null,
            "min_height": null,
            "padding": null,
            "grid_auto_rows": null,
            "grid_gap": null,
            "max_width": null,
            "order": null,
            "_view_module_version": "1.2.0",
            "grid_template_areas": null,
            "object_position": null,
            "object_fit": null,
            "grid_auto_columns": null,
            "margin": null,
            "display": null,
            "left": null
          }
        },
        "36b9c56fbdf540bfa00dac3e9c1ea265": {
          "model_module": "@jupyter-widgets/controls",
          "model_name": "DescriptionStyleModel",
          "model_module_version": "1.5.0",
          "state": {
            "_view_name": "StyleView",
            "_model_name": "DescriptionStyleModel",
            "description_width": "",
            "_view_module": "@jupyter-widgets/base",
            "_model_module_version": "1.5.0",
            "_view_count": null,
            "_view_module_version": "1.2.0",
            "_model_module": "@jupyter-widgets/controls"
          }
        },
        "b04784fcfbec4fa2b09e95e2c13c2a2b": {
          "model_module": "@jupyter-widgets/base",
          "model_name": "LayoutModel",
          "model_module_version": "1.2.0",
          "state": {
            "_view_name": "LayoutView",
            "grid_template_rows": null,
            "right": null,
            "justify_content": null,
            "_view_module": "@jupyter-widgets/base",
            "overflow": null,
            "_model_module_version": "1.2.0",
            "_view_count": null,
            "flex_flow": null,
            "width": null,
            "min_width": null,
            "border": null,
            "align_items": null,
            "bottom": null,
            "_model_module": "@jupyter-widgets/base",
            "top": null,
            "grid_column": null,
            "overflow_y": null,
            "overflow_x": null,
            "grid_auto_flow": null,
            "grid_area": null,
            "grid_template_columns": null,
            "flex": null,
            "_model_name": "LayoutModel",
            "justify_items": null,
            "grid_row": null,
            "max_height": null,
            "align_content": null,
            "visibility": null,
            "align_self": null,
            "height": null,
            "min_height": null,
            "padding": null,
            "grid_auto_rows": null,
            "grid_gap": null,
            "max_width": null,
            "order": null,
            "_view_module_version": "1.2.0",
            "grid_template_areas": null,
            "object_position": null,
            "object_fit": null,
            "grid_auto_columns": null,
            "margin": null,
            "display": null,
            "left": null
          }
        }
      }
    }
  },
  "cells": [
    {
      "cell_type": "code",
      "source": [
        "import torch\n",
        "import torch.nn as nn\n",
        "from tqdm.notebook import tqdm_notebook\n",
        "import torchvision\n",
        "import torchvision.transforms as transforms\n",
        "import numpy as np\n",
        "import matplotlib.pyplot as plt\n",
        "\n",
        "print(torch.cuda.is_available())"
      ],
      "metadata": {
        "colab": {
          "base_uri": "https://localhost:8080/"
        },
        "id": "MjJ0asZHWSM2",
        "outputId": "2cfe7256-b769-400a-8c91-2eddff64636e"
      },
      "execution_count": 3,
      "outputs": [
        {
          "output_type": "stream",
          "name": "stdout",
          "text": [
            "True\n"
          ]
        }
      ]
    },
    {
      "cell_type": "code",
      "source": [
        "class LeNet5(nn.Module):\n",
        "    def __init__(self):\n",
        "        super(LeNet5,self).__init__()\n",
        "\n",
        "        self.c1 = nn.Conv2d(in_channels=1,out_channels=6,kernel_size=5,stride=1,padding=2)\n",
        "        self.c2 = nn.Conv2d(in_channels=6,out_channels=16,kernel_size=5,stride=1,padding=0)\n",
        "        self.c3 = nn.Conv2d(in_channels=16,out_channels=120,kernel_size=5,stride=1,padding=0)\n",
        "        self.max_pool = nn.MaxPool2d(kernel_size=2,stride=2)\n",
        "        self.relu = nn.ReLU()\n",
        "        self.fc1 = nn.Linear(in_features=120,out_features=84)\n",
        "        self.fc2 = nn.Linear(in_features=84,out_features=10)\n",
        "\n",
        "    def forward(self, img):\n",
        "        x = self.c1(img)\n",
        "        x = self.relu(self.max_pool(x))\n",
        "        x = self.c2(x)\n",
        "        x = self.relu(self.max_pool(x))\n",
        "        x = self.relu(self.c3(x))\n",
        "        x = torch.flatten(x,1)\n",
        "        x = self.relu(self.fc1(x))\n",
        "        x = self.fc2(x)\n",
        "        return x"
      ],
      "metadata": {
        "id": "nNU5J-fqZguQ"
      },
      "execution_count": 4,
      "outputs": []
    },
    {
      "cell_type": "code",
      "source": [
        "lenet5 = LeNet5()\n",
        "out = lenet5(torch.rand((16,1,28,28)))\n",
        "out.shape"
      ],
      "metadata": {
        "colab": {
          "base_uri": "https://localhost:8080/"
        },
        "id": "Ar5qkhabgzEK",
        "outputId": "5adab638-a630-4fd0-e8d7-077e8cce6aba"
      },
      "execution_count": 5,
      "outputs": [
        {
          "output_type": "execute_result",
          "data": {
            "text/plain": [
              "torch.Size([16, 10])"
            ]
          },
          "metadata": {},
          "execution_count": 5
        }
      ]
    },
    {
      "cell_type": "code",
      "execution_count": 6,
      "metadata": {
        "id": "pAmpeVKoWM_M"
      },
      "outputs": [],
      "source": [
        "def Dataset(batch_size):\n",
        "    transform = transforms.Compose([\n",
        "                transforms.ToTensor(),\n",
        "                transforms.Normalize((0,), (1,))\n",
        "                ])\n",
        "\n",
        "    trainset = torchvision.datasets.MNIST(root='./data', train=True,\n",
        "                                            download=True, transform=transform)\n",
        "        \n",
        "    # Split dataset into train and validation set    \n",
        "    trainset, valset = torch.utils.data.random_split(trainset, [57500, 2500])\n",
        "\n",
        "    trainloader = torch.utils.data.DataLoader(trainset, batch_size=batch_size,\n",
        "                                            shuffle=True)\n",
        "    \n",
        "    valloader = torch.utils.data.DataLoader(valset, batch_size=batch_size,\n",
        "                                            shuffle=True)\n",
        "\n",
        "    testset = torchvision.datasets.MNIST(root='./data', train=False,\n",
        "                                        download=True, transform=transform)\n",
        "    \n",
        "    testloader = torch.utils.data.DataLoader(testset, batch_size=batch_size,\n",
        "                                            shuffle=False)\n",
        "    \n",
        "    return trainloader, valloader, testloader"
      ]
    },
    {
      "cell_type": "code",
      "source": [
        "class Model:\n",
        "    def __init__(self, model, learning_rate, device):\n",
        "        self.model = model\n",
        "        self.lr = learning_rate\n",
        "        self.loss = nn.CrossEntropyLoss()\n",
        "        self.opt = torch.optim.Adam(self.model.parameters(), lr = self.lr)\n",
        "        self.train_loss = []\n",
        "        self.val_loss = []\n",
        "        self.train_acc = []\n",
        "        self.val_acc = []\n",
        "        self.device = device\n",
        "\n",
        "    def batch_accuracy(self, output, target):\n",
        "        # output shape: [batch, 10]\n",
        "        output = nn.functional.softmax(output, dim=1)\n",
        "        output = output.argmax(1)    \n",
        "        acc = torch.sum(output==target) / output.shape[0]\n",
        "        return acc.cpu()*100    \n",
        "\n",
        "    def train_step(self, dataset):\n",
        "        self.model.train()\n",
        "        batch_loss = []\n",
        "        batch_acc = []\n",
        "        for batch in dataset:\n",
        "            inputs = batch[0].to(self.device)\n",
        "            targets = batch[1].to(self.device)\n",
        "            self.opt.zero_grad() \n",
        "           \n",
        "            outputs = self.model(inputs)\n",
        "\n",
        "            loss = self.loss(outputs, targets)\n",
        "            loss.backward()\n",
        "            self.opt.step()\n",
        "            batch_loss.append(loss.item())\n",
        "            batch_acc.append(self.batch_accuracy(outputs,targets))\n",
        "        \n",
        "        self.train_loss.append(np.mean(batch_loss))\n",
        "        self.train_acc.append(np.mean(batch_acc))\n",
        "\n",
        "    def validation_step(self, dataset):\n",
        "        self.model.eval()\n",
        "        batch_loss = []\n",
        "        batch_acc = []\n",
        "        with torch.no_grad():\n",
        "            for batch in dataset:\n",
        "                inputs = batch[0].to(self.device)\n",
        "                targets = batch[1].to(self.device)\n",
        "            \n",
        "                outputs = self.model(inputs)\n",
        "\n",
        "                loss = self.loss(outputs, targets)\n",
        "                batch_loss.append(loss.item())\n",
        "                batch_acc.append(self.batch_accuracy(outputs,targets))\n",
        "\n",
        "        self.val_loss.append(np.mean(batch_loss))\n",
        "        self.val_acc.append(np.mean(batch_acc))\n",
        "\n",
        "    def test_step(self, dataset):\n",
        "        self.model.eval()\n",
        "        batch_acc = []\n",
        "        with torch.no_grad():\n",
        "            for batch in dataset:\n",
        "                inputs = batch[0].to(self.device)\n",
        "                targets = batch[1].to(self.device)\n",
        "            \n",
        "                outputs = self.model(inputs)\n",
        "                batch_acc.append(self.batch_accuracy(outputs,targets))\n",
        "            \n",
        "        print(\"Accuracy : \", np.mean(batch_acc), \"%\")"
      ],
      "metadata": {
        "id": "UUrjPkLjcZwW"
      },
      "execution_count": 7,
      "outputs": []
    },
    {
      "cell_type": "code",
      "source": [
        "epochs = 10\n",
        "device = \"cuda\" if torch.cuda.is_available() else \"cpu\"\n",
        "learning_rate = 1e-4\n",
        "batch = 32\n",
        "lenet5 = LeNet5().to(device)\n",
        "train_loader, val_loader, test_loader = Dataset(batch)\n",
        "model = Model(lenet5, learning_rate, device)\n",
        "for epoch in tqdm_notebook(range(epochs), desc='Epoch'):\n",
        "    model.train_step(train_loader)\n",
        "    model.validation_step(val_loader)\n",
        "model.test_step(test_loader)"
      ],
      "metadata": {
        "colab": {
          "base_uri": "https://localhost:8080/",
          "height": 66,
          "referenced_widgets": [
            "b693252e24374e14810b0d21c1384f73",
            "bdabb343b4c14e39a05fec1673b3dc15",
            "a1f25004115041d89bcd25c7efe16d4c",
            "773571587fff45ae963c50a887ea0879",
            "8dc1cf072d724626a8679f8794d6f5f0",
            "e55bb57d2c90427a858a5d2dcf55c6f4",
            "225f8e29632948819c2dba4a127ff1a0",
            "d13437997f1b4ba7a39c1418ceca808f",
            "1bfb39376aef41cf9bed54f0d0ad51ac",
            "36b9c56fbdf540bfa00dac3e9c1ea265",
            "b04784fcfbec4fa2b09e95e2c13c2a2b"
          ]
        },
        "id": "it0xL99FgSjA",
        "outputId": "6dda25ca-4f27-4132-fe15-b23527062162"
      },
      "execution_count": 9,
      "outputs": [
        {
          "output_type": "display_data",
          "data": {
            "application/vnd.jupyter.widget-view+json": {
              "model_id": "b693252e24374e14810b0d21c1384f73",
              "version_minor": 0,
              "version_major": 2
            },
            "text/plain": [
              "Epoch:   0%|          | 0/10 [00:00<?, ?it/s]"
            ]
          },
          "metadata": {}
        },
        {
          "output_type": "stream",
          "name": "stdout",
          "text": [
            "Accuracy :  98.48243 %\n"
          ]
        }
      ]
    },
    {
      "cell_type": "code",
      "source": [
        "plt.figure(dpi=150)\n",
        "plt.grid()\n",
        "plt.plot(model.train_loss)\n",
        "plt.plot(model.val_loss)\n",
        "plt.xlabel(\"Epochs\")\n",
        "plt.ylabel(\"Loss\")\n",
        "plt.savefig(\"Accuracy.png\")"
      ],
      "metadata": {
        "colab": {
          "base_uri": "https://localhost:8080/",
          "height": 563
        },
        "id": "YLsM8weOorbh",
        "outputId": "579ca0f5-1181-4be1-cd80-6f3be8cae348"
      },
      "execution_count": 10,
      "outputs": [
        {
          "output_type": "display_data",
          "data": {
            "image/png": "[encoded data removed]",
            "text/plain": [
              "<Figure size 900x600 with 1 Axes>"
            ]
          },
          "metadata": {
            "needs_background": "light"
          }
        }
      ]
    },
    {
      "cell_type": "code",
      "source": [
        "plt.figure(dpi=150)\n",
        "plt.grid()\n",
        "plt.plot(model.train_acc)\n",
        "plt.plot(model.val_acc)\n",
        "plt.xlabel(\"Epochs\")\n",
        "plt.ylabel(\"Accuracy\")\n",
        "plt.savefig(\"Accuracy.png\")"
      ],
      "metadata": {
        "colab": {
          "base_uri": "https://localhost:8080/",
          "height": 562
        },
        "id": "Q2R8o8EyuV63",
        "outputId": "2f2a0d24-df5f-4eb2-dae1-736a20d62930"
      },
      "execution_count": 11,
      "outputs": [
        {
          "output_type": "display_data",
          "data": {
            "image/png": "[encoded data removed]",
            "text/plain": [
              "<Figure size 900x600 with 1 Axes>"
            ]
          },
          "metadata": {
            "needs_background": "light"
          }
        }
      ]
    }
  ]
}